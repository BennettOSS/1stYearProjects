{
 "cells": [
  {
   "cell_type": "markdown",
   "metadata": {},
   "source": [
    "# Student Name:Chaitanya Kovid Tanikella \n",
    "# Enrollment Number: E18ECE012\n",
    "# Lab assignemnt number:3"
   ]
  },
  {
   "cell_type": "markdown",
   "metadata": {},
   "source": [
    "## Lab 3: Arithmetic Expressions, Operators"
   ]
  },
  {
   "cell_type": "markdown",
   "metadata": {},
   "source": [
    "## Compulasory Questions"
   ]
  },
  {
   "cell_type": "markdown",
   "metadata": {},
   "source": [
    "### 1 Write a program in Python that takes a length of one side of square (floating-point value) as input and prints the area and perimeter of the square."
   ]
  },
  {
   "cell_type": "code",
   "execution_count": 1,
   "metadata": {
    "scrolled": false
   },
   "outputs": [
    {
     "name": "stdout",
     "output_type": "stream",
     "text": [
      "Enter length of side :5\n",
      "perimeter of square is : 20.0\n",
      "area of square is : 25.0\n"
     ]
    }
   ],
   "source": [
    "#write your code here\n",
    "n=float(input(\"Enter length of side :\"))\n",
    "print(\"perimeter of square is :\",4*n)\n",
    "print(\"area of square is :\",n*n)"
   ]
  },
  {
   "cell_type": "markdown",
   "metadata": {},
   "source": [
    "### 2\tWrite a program in Python to take input length and breadth of a rectangle (floating-point values) and print the area and perimeter of the rectangle."
   ]
  },
  {
   "cell_type": "code",
   "execution_count": 3,
   "metadata": {
    "scrolled": false
   },
   "outputs": [
    {
     "name": "stdout",
     "output_type": "stream",
     "text": [
      "Enter length of rectangle :3\n",
      "Enter breadth of rectangle :6\n",
      "perimeter of  rectangle  is : 18.0\n",
      "area of  rectangle  is : 18.0\n"
     ]
    }
   ],
   "source": [
    "#write your code here\n",
    "l=float(input(\"Enter length of rectangle :\"))\n",
    "b=float(input(\"Enter breadth of rectangle :\"))\n",
    "print(\"perimeter of  rectangle  is :\",2*(l+b))\n",
    "print(\"area of  rectangle  is :\",l*b)"
   ]
  },
  {
   "cell_type": "markdown",
   "metadata": {},
   "source": [
    "### 3 Write a program in Python which converts 8 hours and 32 minutes into seconds."
   ]
  },
  {
   "cell_type": "code",
   "execution_count": 4,
   "metadata": {},
   "outputs": [
    {
     "name": "stdout",
     "output_type": "stream",
     "text": [
      "30720\n"
     ]
    }
   ],
   "source": [
    "hours=8\n",
    "minutes=32\n",
    "seconds= (hours*60*60)+(minutes*60)\n",
    "print(seconds)"
   ]
  },
  {
   "cell_type": "markdown",
   "metadata": {},
   "source": [
    "### 4 Write a program in Python which inputs time in hours and minutes and converts it into seconds."
   ]
  },
  {
   "cell_type": "code",
   "execution_count": 2,
   "metadata": {},
   "outputs": [
    {
     "name": "stdout",
     "output_type": "stream",
     "text": [
      "Hours :7\n",
      "Minutes :44\n",
      "Number of seconds in  7  Hours and  44  minutes is : 27840\n"
     ]
    }
   ],
   "source": [
    "#write your code here\n",
    "h=int(input(\"Hours :\"))\n",
    "m=int(input(\"Minutes :\"))\n",
    "print(\"Number of seconds in \",h,\" Hours and \",m,\" minutes is :\",(h*60*60)+(m*60))"
   ]
  },
  {
   "cell_type": "markdown",
   "metadata": {},
   "source": [
    "### 5\tWrite a program in Python to convert temperature in degrees Celcius to degrees Fahrenheit. The formula is F = (temp * 9/5) +32 . For temp=40 ᵒC, the output should be 104 ᵒF . Try for other different values of temp."
   ]
  },
  {
   "cell_type": "code",
   "execution_count": 6,
   "metadata": {},
   "outputs": [
    {
     "name": "stdout",
     "output_type": "stream",
     "text": [
      "temperature in ᵒC 40\n",
      "40.0 ᵒC =  104.0 ᵒF\n"
     ]
    }
   ],
   "source": [
    "temp_in_deg=float(input('temperature in ᵒC '))\n",
    "#write your code here\n",
    "temp=(temp_in_deg * 9/5) +32\n",
    "print(temp_in_deg,'ᵒC = ',temp,'ᵒF')"
   ]
  },
  {
   "cell_type": "markdown",
   "metadata": {},
   "source": [
    "### 6 Execute the following program in python to perform assignment operations and write comments on each line as per your understanding"
   ]
  },
  {
   "cell_type": "code",
   "execution_count": 7,
   "metadata": {},
   "outputs": [
    {
     "name": "stdout",
     "output_type": "stream",
     "text": [
      "21\n",
      "11\n",
      "44\n"
     ]
    }
   ],
   "source": [
    "x=20\n",
    "#x=x+1\n",
    "x+=1\n",
    "print(x)\n",
    "#x=x-10\n",
    "x-=10\n",
    "print(x)\n",
    "#x=x*4\n",
    "x*=4\n",
    "print(x)\n"
   ]
  },
  {
   "cell_type": "markdown",
   "metadata": {},
   "source": [
    "### 7 Execute the following program in python to perform assignment operations and write comments on each line as per your understanding."
   ]
  },
  {
   "cell_type": "code",
   "execution_count": 8,
   "metadata": {},
   "outputs": [
    {
     "name": "stdout",
     "output_type": "stream",
     "text": [
      "6.666666666666667\n",
      "0.666666666666667\n",
      "0.0\n",
      "4\n",
      "4\n"
     ]
    }
   ],
   "source": [
    "x=20\n",
    "y=3\n",
    "#x=x/y\n",
    "x/=y\n",
    "print(x)\n",
    "#x=x%y\n",
    "x%=y\n",
    "print(x)\n",
    "#x=x//y\n",
    "x//=y\n",
    "print(x)\n",
    "x=6\n",
    "y=4\n",
    "#x=x&y\n",
    "x&=y\n",
    "print(x)\n",
    "#x=x|y\n",
    "x|=y\n",
    "print(x)\n"
   ]
  },
  {
   "cell_type": "markdown",
   "metadata": {},
   "source": [
    "### 8 Execute the following program in python to perform following relational operations and write comments on each line as per your understanding. "
   ]
  },
  {
   "cell_type": "code",
   "execution_count": 10,
   "metadata": {},
   "outputs": [
    {
     "name": "stdout",
     "output_type": "stream",
     "text": [
      "False\n",
      "True\n",
      "False\n",
      "True\n"
     ]
    }
   ],
   "source": [
    "x=\"happy\"\n",
    "y=\"had\"\n",
    "print(x<y) #compares the two values and returns true when initial one is smaller than the latter\n",
    "print(x>y) #compares the two values and returns true when initial one is greater than the latter\n",
    "print(x==y) #compares the two values and returns true when initial one is equal to the latter\n",
    "print(x!=y) #compares the two values and returns true when initial one is not equal to the latter"
   ]
  },
  {
   "cell_type": "markdown",
   "metadata": {},
   "source": [
    "### 9 Execute the following program in python to perform following relational operations and write comments on each line as per your understanding."
   ]
  },
  {
   "cell_type": "code",
   "execution_count": 12,
   "metadata": {},
   "outputs": [
    {
     "name": "stdout",
     "output_type": "stream",
     "text": [
      "True\n",
      "False\n",
      "False\n",
      "False\n",
      "True\n",
      "False\n"
     ]
    }
   ],
   "source": [
    "print(1<2) # 1 is smaller and hence statement true\n",
    "print(4>10) # 10 is greater than 4 and hence statement false\n",
    "print(6==8) # 6 and 8 are not equal and henc statement false\n",
    "print(2>10) # 10 is greater than 2 and hence statement false\n",
    "print(6<8) #8 is greater than 6 and hence statement true\n",
    "print(6>8) #8 is greater than 6 and hence statement false"
   ]
  },
  {
   "cell_type": "markdown",
   "metadata": {},
   "source": [
    "### 10 Execute the following program in python to perform following logical AND OR NOT operations and write comments on each line as per your understanding."
   ]
  },
  {
   "cell_type": "code",
   "execution_count": 13,
   "metadata": {},
   "outputs": [
    {
     "name": "stdout",
     "output_type": "stream",
     "text": [
      "False\n",
      "False\n",
      "False\n",
      "False\n",
      "True\n",
      "True\n",
      "True\n"
     ]
    }
   ],
   "source": [
    "print(1<2 and 4>10) #Only one statement is true, hence output is false \n",
    "print(6==8 or 2>10) #Both stements are false, hence output is false \n",
    "print(6<8 and 6>8) #Only one statement is true, hence output is false \n",
    "print(not(1)) #Not true is false, hence output is false \n",
    "print(not(1==2)) #result of comparison is false and not false is true, hence output is true\n",
    "print(not(4>7 and 7>8)) #Both stements are false and not false is true, hence output is true\n",
    "print(not(4>7 or 7>8)) #Both stements are false and not false is true, hence output is true"
   ]
  },
  {
   "cell_type": "markdown",
   "metadata": {},
   "source": [
    "### 11\tWrite a program in Python that inputs data (class, age, marks in mathematics, science) about two persons- Ram and Shyam. The program uses relational operators to check whether they study in same class? Are Ram Shyam of same age? Is Ram’s marks in mathematics more than Shyam? Is Ram’s marks in science less than Ram? The answer by the program is either True or False. The operators to be used are: <, >, ==, !=. "
   ]
  },
  {
   "cell_type": "code",
   "execution_count": 20,
   "metadata": {},
   "outputs": [
    {
     "name": "stdout",
     "output_type": "stream",
     "text": [
      "Ram's classX\n",
      "Shyam's classX\n",
      "Ram's age12\n",
      "Shyam's age12\n",
      "Ram's maths marks28\n",
      "Shyam's maths marks99\n",
      "Ram's science marks100\n",
      "Shyam's science marks0\n",
      "Both are in same class ? : True\n",
      "Both are of same age ? : True\n",
      "Ram’s marks in mathematics are more than Shyam : False\n",
      "Ram’s marks in science are less than Shyam : False\n"
     ]
    }
   ],
   "source": [
    "R_class=str(input(\"Ram's class\"))\n",
    "S_class=str(input(\"Shyam's class\"))\n",
    "\n",
    "R_age=int(input(\"Ram's age\"))\n",
    "S_age=int(input(\"Shyam's age\"))\n",
    "\n",
    "R_math=float(input(\"Ram's maths marks\"))\n",
    "S_math=float(input(\"Shyam's maths marks\"))\n",
    "\n",
    "R_sci=float(input(\"Ram's science marks\"))\n",
    "S_sci=float(input(\"Shyam's science marks\"))\n",
    "\n",
    "print('Both are in same class ? :',R_class==S_class)\n",
    "#write your code here\n",
    "print('Both are of same age ? :',R_age==S_age)\n",
    "print(\"Ram’s marks in mathematics are more than Shyam :\",R_math>S_math)\n",
    "print(\"Ram’s marks in science are less than Shyam :\",R_sci<S_sci)"
   ]
  },
  {
   "cell_type": "markdown",
   "metadata": {},
   "source": [
    "### 12 Execute the following code and write comments on each line as per your understanding."
   ]
  },
  {
   "cell_type": "code",
   "execution_count": 23,
   "metadata": {},
   "outputs": [
    {
     "name": "stdout",
     "output_type": "stream",
     "text": [
      "x and y is False\n",
      "x or y is True\n",
      "not x is False\n"
     ]
    }
   ],
   "source": [
    "x = True\n",
    "y = False\n",
    "print('x and y is',x and y) #output of true and false is false\n",
    "print('x or y is',x or y)  #output of true or false is true\n",
    "print('not x is',not x)  #otput of not true is false"
   ]
  },
  {
   "cell_type": "markdown",
   "metadata": {},
   "source": [
    "### 13 Execute the code:"
   ]
  },
  {
   "cell_type": "code",
   "execution_count": 24,
   "metadata": {},
   "outputs": [
    {
     "name": "stdout",
     "output_type": "stream",
     "text": [
      "4\n",
      "12\n",
      "8\n"
     ]
    }
   ],
   "source": [
    "x=12 \n",
    "y=4 \n",
    "# bitwise AND of 1100 and 0100 = 0100 i.e. 4\n",
    "print(x&y) \n",
    "# bitwise OR of 1100 and 0100 = 1100 i.e. 12\n",
    "print(x|y)\n",
    "# bitwise XOR of 1100 and 0100 = 1000 i.e. 8\n",
    "print(x^y)"
   ]
  },
  {
   "cell_type": "markdown",
   "metadata": {},
   "source": [
    "### 14 Execute the code and write comments on each line as per your understanding."
   ]
  },
  {
   "cell_type": "code",
   "execution_count": 27,
   "metadata": {
    "scrolled": true
   },
   "outputs": [
    {
     "name": "stdout",
     "output_type": "stream",
     "text": [
      "True\n",
      "True\n",
      "True\n"
     ]
    }
   ],
   "source": [
    "x = 'Hello world'\n",
    "print('He' in x)    #checks if the given string contains the string in quotes and returns true if it does \n",
    "print('h' not in x)   \n",
    "string2='Believe in yourself'\n",
    "# write code to check if sub-string'lie' is present in string2 or not\n",
    "print('lie' in string2)"
   ]
  },
  {
   "cell_type": "markdown",
   "metadata": {},
   "source": [
    "### 15 Write a program in Python to multiply and divide using bitwise shift operators. Observe the given example for n=8. Write code for n1=4 and execute. "
   ]
  },
  {
   "cell_type": "raw",
   "metadata": {},
   "source": [
    "if n=8 = (1000 in binary), n>>1 will give 100 i.e 4 after shifting bits by 1 place to right. \n",
    "                           n<<1 will give 10000 i.e. 16 after shifting bits by 1 place to left."
   ]
  },
  {
   "cell_type": "code",
   "execution_count": 31,
   "metadata": {
    "scrolled": true
   },
   "outputs": [
    {
     "name": "stdout",
     "output_type": "stream",
     "text": [
      "8 binary 1000\n",
      "8 * 2= 16\n",
      "8 / 2= 4\n",
      "for n1=4\n",
      "4 binary 1000\n",
      "4 * 2= 16\n",
      "4 / 2= 4\n"
     ]
    }
   ],
   "source": [
    "n=8\n",
    "print(n,'binary',format(n,'b'))\n",
    "print(n,'* 2=',n<<1)\n",
    "print(n,'/ 2=',n>>1)\n",
    "n1=4\n",
    "print(\"for n1=4\")\n",
    "#write your code here\n",
    "print(n1,'binary',format(n,'b'))\n",
    "print(n1,'* 2=',n<<1)\n",
    "print(n1,'/ 2=',n>>1)"
   ]
  },
  {
   "cell_type": "markdown",
   "metadata": {},
   "source": [
    "### 16\tWrite a program in Python to multiply and divide by multiple powers of two using bitwise shift operators. Observe the given example for n=8,k=3. Write code for m=4, k1=2 and execute. "
   ]
  },
  {
   "cell_type": "raw",
   "metadata": {},
   "source": [
    "Input\n",
    "    n=8\n",
    "    k=3\n",
    "Output\n",
    "    Value of 8 after multiplying by 2 3 times = 8*8=64\n",
    "    Value of 8 after dividing by 2 3 times = 8/8=1"
   ]
  },
  {
   "cell_type": "code",
   "execution_count": 22,
   "metadata": {},
   "outputs": [
    {
     "name": "stdout",
     "output_type": "stream",
     "text": [
      "Value of 8 after multiplying by 2 3 times = 64\n",
      "Value of 8 after dividing by 2 3 times = 1\n",
      "Value of 8 after multiplying by 2 3 times = 16\n",
      "Value of 8 after dividing by 2 3 times = 1\n"
     ]
    }
   ],
   "source": [
    "n=8\n",
    "k=3\n",
    "#write your code here\n",
    "n1= n<<k\n",
    "print('Value of', n,'after multiplying by 2',k,'times =',n1)\n",
    "#write your code here\n",
    "n2=n>>k\n",
    "print('Value of',n,'after dividing by 2',k,'times =',n2)\n",
    "m=4\n",
    "k1=2\n",
    "#write your code here\n",
    "n1= m<<k1\n",
    "print('Value of', n,'after multiplying by 2',k,'times =',n1)\n",
    "#write your code here\n",
    "n2=m>>k1\n",
    "print('Value of',n,'after dividing by 2',k,'times =',n2)"
   ]
  },
  {
   "cell_type": "markdown",
   "metadata": {},
   "source": [
    "## Optional Questions"
   ]
  },
  {
   "cell_type": "markdown",
   "metadata": {},
   "source": [
    "### 17\tWrite a program in python to convert from degree to radian and from radian to degree. Take input from user."
   ]
  },
  {
   "cell_type": "raw",
   "metadata": {},
   "source": [
    "pi=22/7\n",
    "radian = degree*(pi/180)\n",
    "degree=(radian *180)/pi"
   ]
  },
  {
   "cell_type": "code",
   "execution_count": 33,
   "metadata": {},
   "outputs": [
    {
     "name": "stdout",
     "output_type": "stream",
     "text": [
      "Enter in Degrees :57\n",
      "57.0  degrees =  0.9943333333333334  radian\n"
     ]
    }
   ],
   "source": [
    "#write your code here for degree to radian\n",
    "x=float(input(\"Enter in Degrees :\"))\n",
    "print(x,\" degrees = \",x*(3.14/180),\" radian\")"
   ]
  },
  {
   "cell_type": "code",
   "execution_count": 34,
   "metadata": {},
   "outputs": [
    {
     "name": "stdout",
     "output_type": "stream",
     "text": [
      "Enter in Radian :1\n",
      "1.0  radian =  57.324840764331206  degrees\n"
     ]
    }
   ],
   "source": [
    "#write your code here for radian to degree\n",
    "x=float(input(\"Enter in Radian :\"))\n",
    "print(x,\" radian = \",(x *180)/3.14,\" degrees\")"
   ]
  },
  {
   "cell_type": "markdown",
   "metadata": {},
   "source": [
    "### 18\tWrite a program in Python to convert number 13 into 79. Students may introduce one more variable and  use bitwise operators (such as AND, OR, XOR). "
   ]
  },
  {
   "cell_type": "code",
   "execution_count": 35,
   "metadata": {
    "scrolled": true
   },
   "outputs": [
    {
     "name": "stdout",
     "output_type": "stream",
     "text": [
      "79\n"
     ]
    }
   ],
   "source": [
    "a=13\n",
    "b=79\n",
    "out=a|b\n",
    "print(out)"
   ]
  },
  {
   "cell_type": "markdown",
   "metadata": {},
   "source": [
    "### 19 Write a program in python to calculate area of triangle when all three sides are given. "
   ]
  },
  {
   "cell_type": "raw",
   "metadata": {},
   "source": [
    "s=(a+b+c)/2\n",
    "area =  √(s(s-a)(s-b)(s-c) )"
   ]
  },
  {
   "cell_type": "code",
   "execution_count": 37,
   "metadata": {
    "scrolled": false
   },
   "outputs": [
    {
     "name": "stdout",
     "output_type": "stream",
     "text": [
      "Enter length of side 1 :3\n",
      "Enter length of side 2 :4\n",
      "Enter length of side 3 :5\n",
      "AREA OF THE TRIANGLE IS :  6.0\n"
     ]
    }
   ],
   "source": [
    "import math\n",
    "#write your code here\n",
    "a=float(input(\"Enter length of side 1 :\"))\n",
    "b=float(input(\"Enter length of side 2 :\"))\n",
    "c=float(input(\"Enter length of side 3 :\"))\n",
    "s=(a+b+c)/2\n",
    "print(\"AREA OF THE TRIANGLE IS : \",math.sqrt(s*(s-a)*(s-b)*(s-c)))"
   ]
  },
  {
   "cell_type": "markdown",
   "metadata": {
    "collapsed": true
   },
   "source": [
    "\n",
    "### 20 Write a program in python to perform addition, subtraction, multiplication and division operations on complex numbers. "
   ]
  },
  {
   "cell_type": "code",
   "execution_count": 38,
   "metadata": {},
   "outputs": [
    {
     "name": "stdout",
     "output_type": "stream",
     "text": [
      "Addition : (25+8j)\n",
      "subtraction : (15+2j)\n",
      "multiplication : (85+85j)\n",
      "division : (3.3823529411764706-1.0294117647058825j)\n"
     ]
    }
   ],
   "source": [
    "import cmath\n",
    "a=complex(20+5j)\n",
    "b=complex(5+3j)\n",
    "#write your code here\n",
    "print(\"Addition :\",a+b)\n",
    "print(\"subtraction :\",a-b)\n",
    "print(\"multiplication :\",a*b)\n",
    "print(\"division :\",a/b)"
   ]
  },
  {
   "cell_type": "code",
   "execution_count": null,
   "metadata": {},
   "outputs": [],
   "source": []
  }
 ],
 "metadata": {
  "kernelspec": {
   "display_name": "Python 3",
   "language": "python",
   "name": "python3"
  },
  "language_info": {
   "codemirror_mode": {
    "name": "ipython",
    "version": 3
   },
   "file_extension": ".py",
   "mimetype": "text/x-python",
   "name": "python",
   "nbconvert_exporter": "python",
   "pygments_lexer": "ipython3",
   "version": "3.6.5"
  }
 },
 "nbformat": 4,
 "nbformat_minor": 2
}
